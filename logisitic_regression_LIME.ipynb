{
 "cells": [
  {
   "cell_type": "code",
   "execution_count": null,
   "id": "fa54da7b",
   "metadata": {},
   "outputs": [],
   "source": [
    "#LIME import\n",
    "\n",
    "import lime as lime\n",
    "import lime.lime_tabular\n",
    "\n"
   ]
  },
  {
   "cell_type": "code",
   "execution_count": null,
   "id": "86868aa0",
   "metadata": {},
   "outputs": [],
   "source": [
    "# LIME only takes probabilities\n",
    "# logreg is the already logistic regression model you have already created\n",
    "\n",
    "predict_fn_logreg = lambda x: logreg.predict_proba(x).astype(float)"
   ]
  },
  {
   "cell_type": "code",
   "execution_count": null,
   "id": "950d303a",
   "metadata": {},
   "outputs": [],
   "source": [
    "# name of classes\n",
    "class_names = ['stall', 'no stall']"
   ]
  },
  {
   "cell_type": "code",
   "execution_count": null,
   "id": "3d29fa78",
   "metadata": {},
   "outputs": [],
   "source": [
    "# Below we are creating the LimeTabularExplainer object by passing it train data, mode as classification, and feature names\n",
    "# first arg is train set. have to change pandas dataframe into numpy array using to_numpy\n",
    "\n",
    "explainer = lime.lime_tabular.LimeTabularExplainer(X_train.to_numpy(), feature_names=feature_cols, class_names = class_names, mode='classification')"
   ]
  },
  {
   "cell_type": "code",
   "execution_count": null,
   "id": "34e6ad4a",
   "metadata": {},
   "outputs": [],
   "source": [
    "# Get the explanation for Logistic Regression\n",
    "# first arg is test set. have to use iloc to get the correct dimensions\n",
    "exp = explainer.explain_instance(X_test.iloc[2], predict_fn_logreg, num_features=8, top_labels=1)"
   ]
  },
  {
   "cell_type": "code",
   "execution_count": null,
   "id": "7e79f914",
   "metadata": {},
   "outputs": [],
   "source": [
    "# show visualization\n",
    "exp.show_in_notebook(show_all=False)"
   ]
  }
 ],
 "metadata": {
  "kernelspec": {
   "display_name": "Python 3",
   "language": "python",
   "name": "python3"
  },
  "language_info": {
   "codemirror_mode": {
    "name": "ipython",
    "version": 3
   },
   "file_extension": ".py",
   "mimetype": "text/x-python",
   "name": "python",
   "nbconvert_exporter": "python",
   "pygments_lexer": "ipython3",
   "version": "3.8.8"
  }
 },
 "nbformat": 4,
 "nbformat_minor": 5
}
