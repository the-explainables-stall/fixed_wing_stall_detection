{
 "cells": [
  {
   "cell_type": "code",
   "execution_count": null,
   "metadata": {},
   "outputs": [],
   "source": [
    "# Libraries\n",
    "\n",
    "import random\n",
    "import math\n",
    "import time\n",
    "import pandas as pd\n",
    "import numpy as np\n",
    "import pyarrow as pa\n",
    "import pyarrow.parquet as pq\n",
    "import matplotlib.pyplot as plt\n",
    "import sklearn.metrics as metrics\n",
    "from sklearn.metrics import classification_report, accuracy_score\n",
    "import xgboost\n",
    "from sklearn.metrics import confusion_matrix\n",
    "from sklearn.model_selection import train_test_split\n",
    "import warnings\n",
    "warnings.filterwarnings('ignore')\n",
    "from datetime import datetime\n",
    "from sklearn.model_selection import RandomizedSearchCV, GridSearchCV\n",
    "from sklearn.metrics import roc_auc_score\n",
    "from sklearn.model_selection import StratifiedKFold\n",
    "from xgboost import XGBClassifier"
   ]
  },
  {
   "cell_type": "code",
   "execution_count": null,
   "metadata": {},
   "outputs": [],
   "source": [
    "# Load test data\n",
    "\n",
    "test_df = pq.read_table('tenk_test_data.pq').to_pandas()"
   ]
  },
  {
   "cell_type": "code",
   "execution_count": null,
   "metadata": {},
   "outputs": [],
   "source": [
    "# Load train data\n",
    "\n",
    "train_df = pq.read_table('tenk_train_data.pq').to_pandas()"
   ]
  },
  {
   "cell_type": "code",
   "execution_count": null,
   "metadata": {},
   "outputs": [],
   "source": [
    "# Feature Engineering\n",
    "# Time window segmented features\n",
    "\n",
    "def generate_statistical_features(data_df, window_span, min_rec):\n",
    "    selected_attributes = ['altitude', 'vertical_speed', 'roll', 'AOA', 'airspeed', 'flight_path_angle', 'pitch']\n",
    "    input_df = data_df.iloc[:,:13].copy()    \n",
    "    for attr in selected_attributes:\n",
    "        input_df[attr + '_mean'] = data_df.groupby('name')[attr].transform(lambda x: x.rolling(window_span, min_rec).mean(engine='numba', raw=True)).round(3)        \n",
    "        input_df[attr + '_variance'] = data_df.groupby('name')[attr].transform(lambda x: x.rolling(window_span, min_rec).var(engine='numba', raw=True)).round(3)\n",
    "    \n",
    "    input_df['stall'] = data_df['stall']     \n",
    "    return input_df"
   ]
  },
  {
   "cell_type": "code",
   "execution_count": null,
   "metadata": {},
   "outputs": [],
   "source": [
    "# Generating Time window segmented features train and test set\n",
    "\n",
    "stat_train_df = generate_statistical_features(train_df, 20, 5)\n",
    "stat_test_df = generate_statistical_features(test_df, 20, 5)"
   ]
  },
  {
   "cell_type": "code",
   "execution_count": null,
   "metadata": {},
   "outputs": [],
   "source": [
    "# Drop null values\n",
    "\n",
    "stat_train_df = stat_train_df.dropna()\n",
    "stat_test_df = stat_test_df.dropna()"
   ]
  },
  {
   "cell_type": "code",
   "execution_count": null,
   "metadata": {},
   "outputs": [],
   "source": [
    "# Train XGBoost model\n",
    "# Predict\n",
    "# Classification report\n",
    "\n",
    "xgb = xgboost.XGBClassifier()\n",
    "pred = xgb.fit(stat_train_df.iloc[:,13:-1], stat_train_df['stall']).predict(stat_test_df.iloc[:,13:-1])\n",
    "print(classification_report(stat_test_df['stall'], pred))"
   ]
  },
  {
   "cell_type": "code",
   "execution_count": null,
   "metadata": {},
   "outputs": [],
   "source": [
    "# Confusion Matrix\n",
    "\n",
    "predicted_value = pred"
   ]
  },
  {
   "cell_type": "code",
   "execution_count": null,
   "metadata": {},
   "outputs": [],
   "source": [
    "# Predicted outcome array\n",
    "\n",
    "predicted_value"
   ]
  },
  {
   "cell_type": "code",
   "execution_count": null,
   "metadata": {},
   "outputs": [],
   "source": [
    "# Actual values of the targeted variable in the test set\n",
    "\n",
    "stall_column = stat_test_df.loc[:,'stall']"
   ]
  },
  {
   "cell_type": "code",
   "execution_count": null,
   "metadata": {},
   "outputs": [],
   "source": [
    "# True/actual values\n",
    "\n",
    "true_value = stall_column.values"
   ]
  },
  {
   "cell_type": "code",
   "execution_count": null,
   "metadata": {},
   "outputs": [],
   "source": [
    "# True values array\n",
    "\n",
    "true_value"
   ]
  },
  {
   "cell_type": "code",
   "execution_count": null,
   "metadata": {},
   "outputs": [],
   "source": [
    "# Confusion Matrix\n",
    "\n",
    "plt.rcParams[\"figure.figsize\"] = (9,6)\n",
    "target_names = ['class 0', 'class 1', 'class 2', 'class 3']\n",
    "conf_matrix = confusion_matrix(true_value, predicted_value)\n",
    "sns.heatmap(conf_matrix, annot=True, fmt='d'\n",
    "           , xticklabels=target_names, yticklabels=target_names\n",
    "           , cmap = sns.cm.rocket_r)\n",
    "plt.xlabel('Predicted Label',fontsize=14)\n",
    "plt.ylabel('True Label',fontsize=14)\n",
    "plt.title(\"XGBoost Confusion Matrix\",fontdict={'weight':'bold','size': 14})\n"
   ]
  },
  {
   "cell_type": "code",
   "execution_count": null,
   "metadata": {},
   "outputs": [],
   "source": [
    "# Hyperparameter tunning for statistical features based model"
   ]
  },
  {
   "cell_type": "code",
   "execution_count": null,
   "metadata": {},
   "outputs": [],
   "source": [
    "# Random Search CV"
   ]
  },
  {
   "cell_type": "code",
   "execution_count": null,
   "metadata": {},
   "outputs": [],
   "source": [
    "# Input and Output for hyperparameter tunning and cross validation \n",
    "\n",
    "X = stat_train_df.iloc[:,13:-1]\n",
    "y = stat_train_df['stall']"
   ]
  },
  {
   "cell_type": "code",
   "execution_count": null,
   "metadata": {},
   "outputs": [],
   "source": [
    "# Step 1 - select some parameters that are present in the XGBClassifier\n",
    "\n",
    "params={\n",
    "    \"learning_rate\"   : [0.05, 0.01, 0.15, 0.20, 0.25, 0.30],\n",
    "    \"max_depth\"       : [3, 4, 5, 6, 8, 10, 12, 15],\n",
    "    \"min_child_weight\": [1, 3, 5, 7],\n",
    "    \"gamma\"           : [0.0, 0.1, 0.2, 0.3, 0.4],\n",
    "    \"colsample_bytree\": [0.3, 0.4, 0.5, 0.7]  \n",
    "}"
   ]
  },
  {
   "cell_type": "code",
   "execution_count": null,
   "metadata": {},
   "outputs": [],
   "source": [
    "# Timer\n",
    "\n",
    "def timer(start_time=None):\n",
    "    if not start_time:\n",
    "        start_time = datetime.now()\n",
    "        return start_time\n",
    "    elif start_time:\n",
    "        thour, temp_sec =divmod((datetime.now() - start_time).total_seconds(), 3600)\n",
    "        tmin, tsec = divmod(temp_sec, 60)\n",
    "        print('\\n Time taken: %i hours %i minutes and %s seconds.'%(thour, tmin, round(tsec, 2)))"
   ]
  },
  {
   "cell_type": "code",
   "execution_count": null,
   "metadata": {},
   "outputs": [],
   "source": [
    "# Setup default classifier\n",
    "\n",
    "classifier = xgboost.XGBClassifier()"
   ]
  },
  {
   "cell_type": "code",
   "execution_count": null,
   "metadata": {},
   "outputs": [],
   "source": [
    "# Set up the randomized search\n",
    "\n",
    "random_search=RandomizedSearchCV(classifier, \n",
    "                                 param_distributions=params,\n",
    "                                 n_iter=5,scoring='f1_macro', \n",
    "                                 n_jobs=-1,cv=5, \n",
    "                                 verbose=3)"
   ]
  },
  {
   "cell_type": "code",
   "execution_count": null,
   "metadata": {},
   "outputs": [],
   "source": [
    "# Fit\n",
    "\n",
    "start_time = timer(None) \n",
    "random_search.fit(X,y)\n",
    "timer(start_time)"
   ]
  },
  {
   "cell_type": "code",
   "execution_count": null,
   "metadata": {},
   "outputs": [],
   "source": [
    "# Best estimators\n",
    "\n",
    "random_search.best_estimator_"
   ]
  },
  {
   "cell_type": "code",
   "execution_count": null,
   "metadata": {},
   "outputs": [],
   "source": [
    "# Selected params from range of inputs\n",
    "\n",
    "random_search.best_params_"
   ]
  },
  {
   "cell_type": "code",
   "execution_count": null,
   "metadata": {},
   "outputs": [],
   "source": [
    "# Put the best parameters in\n",
    "\n",
    "classifier = xgboost.XGBClassifier(base_score=0.5, booster='gbtree', colsample_bylevel=1,\n",
    "              colsample_bynode=1, colsample_bytree=0.7, gamma=0.0, gpu_id=-1,\n",
    "              importance_type='gain', interaction_constraints='',\n",
    "              learning_rate=0.25, max_delta_step=0, max_depth=5,\n",
    "              min_child_weight=7, monotone_constraints='()',\n",
    "              n_estimators=100, n_jobs=8, num_parallel_tree=1,\n",
    "              objective='multi:softprob', random_state=0, reg_alpha=0,\n",
    "              reg_lambda=1, scale_pos_weight=None, subsample=1,\n",
    "              tree_method='exact', validate_parameters=1, verbosity=None)"
   ]
  },
  {
   "cell_type": "code",
   "execution_count": null,
   "metadata": {},
   "outputs": [],
   "source": [
    "# For XGBoost model with hyperparameter tuning test sets\n",
    "\n",
    "z = stat_test_df.iloc[:,13:-1]\n",
    "u = stat_test_df['stall']"
   ]
  },
  {
   "cell_type": "code",
   "execution_count": null,
   "metadata": {},
   "outputs": [],
   "source": [
    "pred = classifier.fit(X, y).predict(z)\n",
    "print(classification_report(u, pred))"
   ]
  },
  {
   "cell_type": "code",
   "execution_count": null,
   "metadata": {},
   "outputs": [],
   "source": [
    "# Model Validation\n",
    "\n",
    "xgb = xgboost.XGBClassifier(objective= 'multi:softmax',\n",
    "                            nthread=4,\n",
    "                            seed=42)"
   ]
  },
  {
   "cell_type": "code",
   "execution_count": null,
   "metadata": {},
   "outputs": [],
   "source": [
    "# 10 fold cross validation\n",
    "\n",
    "from sklearn.model_selection import cross_val_score\n",
    "score = cross_val_score(xgb, X,y,cv=10)"
   ]
  },
  {
   "cell_type": "code",
   "execution_count": null,
   "metadata": {},
   "outputs": [],
   "source": [
    "# Validation score\n",
    "\n",
    "score"
   ]
  },
  {
   "cell_type": "code",
   "execution_count": null,
   "metadata": {},
   "outputs": [],
   "source": [
    "score"
   ]
  },
  {
   "cell_type": "code",
   "execution_count": null,
   "metadata": {},
   "outputs": [],
   "source": [
    "# Validation mean (accuracy)\n",
    "\n",
    "score.mean()"
   ]
  },
  {
   "cell_type": "code",
   "execution_count": null,
   "metadata": {},
   "outputs": [],
   "source": [
    "# Predicting on single simulation/flight data\n",
    "\n",
    "df_read_one_stat = pq.read_table('single_sim_new.pq').to_pandas()"
   ]
  },
  {
   "cell_type": "code",
   "execution_count": null,
   "metadata": {},
   "outputs": [],
   "source": [
    "# Feature Engineering for one simulation\n",
    "# Time window segmentation\n",
    "\n",
    "def generate_statistical_features(data_df, window_span, min_rec):\n",
    "    selected_attributes = ['altitude', 'vertical_speed', 'roll', 'AOA', 'airspeed', 'flight_path_angle', 'pitch']\n",
    "    input_df = data_df.iloc[:,:13].copy()    \n",
    "    for attr in selected_attributes:\n",
    "        input_df[attr + '_mean'] = data_df.groupby('name')[attr].transform(lambda x: x.rolling(window_span, min_rec).mean(engine='numba', raw=True)).round(3)        \n",
    "        input_df[attr + '_variance'] = data_df.groupby('name')[attr].transform(lambda x: x.rolling(window_span, min_rec).var(engine='numba', raw=True)).round(3)\n",
    "    \n",
    "    input_df['stall'] = data_df['stall']     \n",
    "    return input_df"
   ]
  },
  {
   "cell_type": "code",
   "execution_count": null,
   "metadata": {},
   "outputs": [],
   "source": [
    "# Generating statistical features for one simulation\n",
    "\n",
    "stat_one = generate_statistical_features(df_read_one_stat, 20, 5)"
   ]
  },
  {
   "cell_type": "code",
   "execution_count": null,
   "metadata": {},
   "outputs": [],
   "source": [
    "# Drop null values\n",
    "\n",
    "stat_one = stat_one.dropna()"
   ]
  },
  {
   "cell_type": "code",
   "execution_count": null,
   "metadata": {},
   "outputs": [],
   "source": [
    "# XGBoost model for one simulation prediction\n",
    "# Classification report on the one simulation prediction\n",
    "\n",
    "xgb = xgboost.XGBClassifier()\n",
    "pred = xgb.fit(stat_train_df.iloc[:,13:-1], stat_train_df['stall']).predict(stat_one.iloc[:,13:-1])\n",
    "print(classification_report(stat_one['stall'], pred))"
   ]
  },
  {
   "cell_type": "code",
   "execution_count": null,
   "metadata": {},
   "outputs": [],
   "source": [
    "# Prediction outcome array\n",
    "\n",
    "pred"
   ]
  },
  {
   "cell_type": "code",
   "execution_count": null,
   "metadata": {},
   "outputs": [],
   "source": [
    "# Prediction outcome list\n",
    "\n",
    "list1 = pred.tolist()\n",
    "\n",
    "print(f'List: {list1}')"
   ]
  },
  {
   "cell_type": "code",
   "execution_count": null,
   "metadata": {},
   "outputs": [],
   "source": [
    "# Creating a data frame for the predicted outcome\n",
    "\n",
    "df_plot = pd.DataFrame(pred)"
   ]
  },
  {
   "cell_type": "code",
   "execution_count": null,
   "metadata": {},
   "outputs": [],
   "source": [
    "# Adding a column name\n",
    "\n",
    "df_plot.columns =['stallp']"
   ]
  },
  {
   "cell_type": "code",
   "execution_count": null,
   "metadata": {},
   "outputs": [],
   "source": [
    "# Predicted outcome data frame\n",
    "\n",
    "df_plot"
   ]
  },
  {
   "cell_type": "code",
   "execution_count": null,
   "metadata": {},
   "outputs": [],
   "source": [
    "# Adding the predicted outcome to the one simulation data\n",
    "\n",
    "stat_one['stallp'] = df_plot['stallp'].values"
   ]
  },
  {
   "cell_type": "code",
   "execution_count": null,
   "metadata": {},
   "outputs": [],
   "source": [
    "# One simulation prediction on the XGBoost model visualization\n",
    "\n",
    "stall_time = stat_one.loc[stat_one['stall'] == 1, ['time']].min().values[0]\n",
    "stall_time_2 = stat_one.loc[stat_one['stall'] == 2, ['time']].min().values[0]\n",
    "stall_time_3 = stat_one.loc[stat_one['stall'] == 3, ['time']].min().values[0]\n",
    "stall_time_4= stat_one.loc[stat_one['stallp'] == 1, ['time']].min().values[0]\n",
    "stall_time_5 = stat_one.loc[stat_one['stallp'] == 2, ['time']].min().values[0]\n",
    "stall_time_6 = stat_one.loc[stat_one['stallp'] == 3, ['time']].min().values[0]"
   ]
  },
  {
   "cell_type": "code",
   "execution_count": null,
   "metadata": {},
   "outputs": [],
   "source": [
    "# Actual Onset of stall/ Class 1\n",
    "stall_time"
   ]
  },
  {
   "cell_type": "code",
   "execution_count": null,
   "metadata": {},
   "outputs": [],
   "source": [
    "# Actual Uncommanded Decent/ Class 2\n",
    "stall_time_2"
   ]
  },
  {
   "cell_type": "code",
   "execution_count": null,
   "metadata": {},
   "outputs": [],
   "source": [
    "# Actual Uncommanded Decent High & Roll/ Class 3\n",
    "stall_time_3"
   ]
  },
  {
   "cell_type": "code",
   "execution_count": null,
   "metadata": {},
   "outputs": [],
   "source": [
    "# Predicted Onset of stall/ Class 1\n",
    "stall_time_4"
   ]
  },
  {
   "cell_type": "code",
   "execution_count": null,
   "metadata": {},
   "outputs": [],
   "source": [
    "# Predicted Actual Uncommanded Decent/ Class 2\n",
    "stall_time_5"
   ]
  },
  {
   "cell_type": "code",
   "execution_count": null,
   "metadata": {},
   "outputs": [],
   "source": [
    "# Predicted Actual Uncommanded Decent High & Roll/ Class 3\n",
    "stall_time_6"
   ]
  },
  {
   "cell_type": "code",
   "execution_count": null,
   "metadata": {},
   "outputs": [],
   "source": [
    "# Latency of class 3 \n",
    "\n",
    "69.60000000000046 - 69.30000000000047"
   ]
  },
  {
   "cell_type": "code",
   "execution_count": null,
   "metadata": {},
   "outputs": [],
   "source": [
    "# Making strip plots \n",
    "\n",
    "import matplotlib.gridspec as gridspec\n",
    "import matplotlib.pyplot as plt\n",
    "import seaborn as sns\n",
    "sns.set_style(\"whitegrid\")\n",
    "fig, axs = plt.subplots(ncols=1, nrows=7, figsize=(18,9), sharex=True)\n",
    "plt = sns.lineplot(x='time', y='altitude_mean', data=stat_one, ax=axs[0])\n",
    "plt.axvline(stall_time, color='red')\n",
    "plt.axvline(stall_time_2, color='red')\n",
    "plt.axvline(stall_time_3, color='red')\n",
    "plt.axvline(stall_time_4, color='green')\n",
    "plt.axvline(stall_time_5, color='green')\n",
    "plt.axvline(stall_time_6, color='green')\n",
    "\n",
    "plt = sns.lineplot(x='time', y='vertical_speed_mean', data=stat_one, ax=axs[1])\n",
    "plt.axvline(stall_time, color='red')\n",
    "plt.axvline(stall_time_2, color='red')\n",
    "plt.axvline(stall_time_3, color='red')\n",
    "plt.axvline(stall_time_4, color='green')\n",
    "plt.axvline(stall_time_5, color='green')\n",
    "plt.axvline(stall_time_6, color='green')\n",
    "\n",
    "plt = sns.lineplot(x='time', y='roll_mean', data=stat_one, ax=axs[2])\n",
    "plt.axvline(stall_time, color='red')\n",
    "plt.axvline(stall_time_2, color='red')\n",
    "plt.axvline(stall_time_3, color='red')\n",
    "plt.axvline(stall_time_4, color='green')\n",
    "plt.axvline(stall_time_5, color='green')\n",
    "plt.axvline(stall_time_6, color='green')\n",
    "\n",
    "plt = sns.lineplot(x='time', y='AOA_mean', data=stat_one, ax=axs[3])\n",
    "plt.axvline(stall_time, color='red')\n",
    "plt.axvline(stall_time_2, color='red')\n",
    "plt.axvline(stall_time_3, color='red')\n",
    "plt.axvline(stall_time_4, color='green')\n",
    "plt.axvline(stall_time_5, color='green')\n",
    "plt.axvline(stall_time_6, color='green')\n",
    "\n",
    "plt = sns.lineplot(x='time', y='flight_path_angle_mean', data=stat_one, ax=axs[4])\n",
    "plt.axvline(stall_time, color='red')\n",
    "plt.axvline(stall_time_2, color='red')\n",
    "plt.axvline(stall_time_3, color='red')\n",
    "plt.axvline(stall_time_4, color='green')\n",
    "plt.axvline(stall_time_5, color='green')\n",
    "plt.axvline(stall_time_6, color='green')\n",
    "\n",
    "plt = sns.lineplot(x='time', y='pitch_mean', data=stat_one, ax=axs[5])\n",
    "plt.axvline(stall_time, color='red')\n",
    "plt.axvline(stall_time_2, color='red')\n",
    "plt.axvline(stall_time_3, color='red')\n",
    "plt.axvline(stall_time_4, color='green')\n",
    "plt.axvline(stall_time_5, color='green')\n",
    "plt.axvline(stall_time_6, color='green')\n",
    "\n",
    "plt = sns.lineplot(x='time', y='airspeed_mean', data=stat_one, ax=axs[6])\n",
    "plt.axvline(stall_time, color='red')\n",
    "plt.axvline(stall_time_2, color='red')\n",
    "plt.axvline(stall_time_3, color='red')\n",
    "plt.axvline(stall_time_4, color='green')\n",
    "plt.axvline(stall_time_5, color='green')\n",
    "plt.axvline(stall_time_6, color='green')\n",
    "\n",
    "left  = 0.125  # the left side of the subplots of the figure\n",
    "right = 0.9    # the right side of the subplots of the figure\n",
    "bottom = 10   # the bottom of the subplots of the figure\n",
    "top = 11      # the top of the subplots of the figure\n",
    "wspace = 0.2   # the amount of width reserved for blank space between subplots\n",
    "hspace = 0.2   # the amount of height reserved for white space between subplots"
   ]
  },
  {
   "cell_type": "code",
   "execution_count": null,
   "metadata": {},
   "outputs": [],
   "source": [
    "# To visualize actual vs predicted scatterplots\n",
    "\n",
    "%matplotlib inline\n",
    "import matplotlib.pyplot as plt\n",
    "import seaborn as sns\n",
    "\n",
    "labels_dict = {0: \"Level Flight\", 1: \"Onset of Stall\", \n",
    "                   2: \"Uncommanded Descent\", 3: \"Uncommanded Roll/DescentHigh\"}\n",
    "\n",
    "flight_data = ptest_df[ptest_df['name']==flight_name] # Assign a flight_name\n",
    "\n",
    "x = flight_data['time']\n",
    "y = flight_data['stall'].replace(labels_dict)\n",
    "y1 = flight_pred # Assign output from the classifier for this particular flight\n",
    "\n",
    "sns.set(style=\"darkgrid\")\n",
    "plt.figure(figsize=(20,4))\n",
    "plt.scatter(x, y, label = \"Actual\", s=100)\n",
    "plt.scatter(x, y1, label = \"Predicted\")\n",
    "plt.xlabel('Time (sec)')\n",
    "plt.legend(loc=\"lower right\")\n",
    "fig = plt.gcf()\n",
    "plt.show()"
   ]
  },
  {
   "cell_type": "code",
   "execution_count": null,
   "metadata": {},
   "outputs": [],
   "source": [
    "# Explainability\n",
    "\n",
    "import lime\n",
    "import lime.lime_tabular\n",
    "\n",
    "explainer = lime.lime_tabular.LimeTabularExplainer(ptrain_df.iloc[:,13:-1].values, \n",
    "                                                   feature_names=ptrain_df.columns.tolist()[13:-1], \n",
    "                                                   training_labels=ptrain_df['stall'], \n",
    "                                                   verbose=True, mode='classification', \n",
    "                                                   class_names = [0, 1, 2, 3])\n",
    "\n",
    "exp = explainer.explain_instance(ptest_df.loc[index, ptest_df.columns.tolist()[13:-1]], \n",
    "                                 xgbmodel.predict_proba, num_features=5, top_labels=5)\n",
    "exp.show_in_notebook(show_table=True)"
   ]
  },
  {
   "cell_type": "code",
   "execution_count": null,
   "metadata": {},
   "outputs": [],
   "source": [
    "# Method 2\n",
    "# XGBoost using Lag features"
   ]
  },
  {
   "cell_type": "code",
   "execution_count": null,
   "metadata": {},
   "outputs": [],
   "source": [
    "# Input: Raw data (df) with preferred lag range values \n",
    "# Output: Dataframe with Lagged Features\n",
    "\n",
    "def generate_lagged_feature(data_df, start_lag, end_lag):\n",
    "    selected_attributes = ['altitude', 'vertical_speed', 'roll', 'AOA', 'airspeed', 'flight_path_angle', 'pitch']\n",
    "    input_df = data_df.iloc[:,:-1].copy()\n",
    "    for attr in selected_attributes:\n",
    "        for lag_i in range(start_lag, end_lag, 25):\n",
    "            col_name = attr + '_lag_' + str(lag_i)\n",
    "            input_df[col_name] = input_df.groupby('name')[attr].shift(lag_i)\n",
    "    input_df['stall'] = data_df['stall']       \n",
    "    return input_df"
   ]
  },
  {
   "cell_type": "code",
   "execution_count": null,
   "metadata": {},
   "outputs": [],
   "source": [
    "# Generating Lagged features for training and test sets\n",
    "\n",
    "lagged_train_df = generate_lagged_feature(train_df, 25, 150)\n",
    "lagged_test_df = generate_lagged_feature(test_df,25, 150)"
   ]
  },
  {
   "cell_type": "code",
   "execution_count": null,
   "metadata": {},
   "outputs": [],
   "source": [
    "# Drop null vales\n",
    "\n",
    "lagged_train_df = lagged_train_df.dropna()\n",
    "lagged_test_df = lagged_test_df.dropna()"
   ]
  },
  {
   "cell_type": "code",
   "execution_count": null,
   "metadata": {},
   "outputs": [],
   "source": [
    "# XGBoost for lagged method\n",
    "# Model training and prediction\n",
    "# Classification report of XGBoost model based on lagged features \n",
    "\n",
    "xgb = xgboost.XGBClassifier(objective= 'multi:softmax',\n",
    "                            nthread=4,\n",
    "                            seed=42)\n",
    "pred = xgb.fit(lagged_train_df.iloc[:,13:-1], lagged_train_df['stall']).predict(lagged_test_df.iloc[:,13:-1])\n",
    "print(classification_report(lagged_test_df['stall'], pred))"
   ]
  },
  {
   "cell_type": "code",
   "execution_count": null,
   "metadata": {},
   "outputs": [],
   "source": [
    "xgb = xgboost.XGBClassifier()\n",
    "pred = xgb.fit(lagged_train_df.iloc[:,13:-1], lagged_train_df['stall']).predict(lagged_test_df.iloc[:,13:-1])\n",
    "print(classification_report(lagged_test_df['stall'], pred))"
   ]
  },
  {
   "cell_type": "code",
   "execution_count": null,
   "metadata": {},
   "outputs": [],
   "source": [
    "# Single simulation data\n",
    "\n",
    "df_read_one = pq.read_table('single_sim_new.pq').to_pandas()"
   ]
  },
  {
   "cell_type": "code",
   "execution_count": null,
   "metadata": {},
   "outputs": [],
   "source": [
    "# Input: Raw data (df) with preferred lag range values \n",
    "# Output: Dataframe with Lagged Features\n",
    "\n",
    "def generate_lagged_feature(data_df, start_lag, end_lag):\n",
    "    selected_attributes = ['altitude', 'vertical_speed', 'roll', 'AOA', 'airspeed', 'flight_path_angle', 'pitch']\n",
    "    input_df = data_df.iloc[:,:-1].copy()\n",
    "    for attr in selected_attributes:\n",
    "        for lag_i in range(start_lag, end_lag, 25):\n",
    "            col_name = attr + '_lag_' + str(lag_i)\n",
    "            input_df[col_name] = input_df.groupby('name')[attr].shift(lag_i)\n",
    "    input_df['stall'] = data_df['stall']       \n",
    "    return input_df"
   ]
  },
  {
   "cell_type": "code",
   "execution_count": null,
   "metadata": {},
   "outputs": [],
   "source": [
    "# Generating Lagged features for one simulation prediction on XGBoost model\n",
    "\n",
    "lagged_one = generate_lagged_feature(df_read_one, 25, 150)"
   ]
  },
  {
   "cell_type": "code",
   "execution_count": null,
   "metadata": {},
   "outputs": [],
   "source": [
    "# Drop null values\n",
    "\n",
    "lagged_one = lagged_one.dropna()"
   ]
  },
  {
   "cell_type": "code",
   "execution_count": null,
   "metadata": {},
   "outputs": [],
   "source": [
    "# One simulation prediction on the Lagged features based XGBoost model\n",
    "\n",
    "xgb = xgboost.XGBClassifier()\n",
    "pred = xgb.fit(lagged_train_df.iloc[:,13:-1], lagged_train_df['stall']).predict(lagged_one.iloc[:,13:-1])\n",
    "print(classification_report(lagged_one['stall'], pred))"
   ]
  },
  {
   "cell_type": "code",
   "execution_count": null,
   "metadata": {},
   "outputs": [],
   "source": [
    "# One simulation with lagged features prediction outcome\n",
    "\n",
    "pred"
   ]
  },
  {
   "cell_type": "code",
   "execution_count": null,
   "metadata": {},
   "outputs": [],
   "source": [
    "list1 = pred.tolist()\n",
    "\n",
    "print(f'List: {list1}')"
   ]
  },
  {
   "cell_type": "code",
   "execution_count": null,
   "metadata": {},
   "outputs": [],
   "source": [
    "# Dataframe of the predicted outcome\n",
    "\n",
    "df_plot = pd.DataFrame(pred)"
   ]
  },
  {
   "cell_type": "code",
   "execution_count": null,
   "metadata": {},
   "outputs": [],
   "source": [
    "# Add column name\n",
    "\n",
    "df_plot.columns =['stallp']"
   ]
  },
  {
   "cell_type": "code",
   "execution_count": null,
   "metadata": {},
   "outputs": [],
   "source": [
    "# Combine the prediction output to the actual data\n",
    "\n",
    "lagged_one['stallp'] = df_plot['stallp'].values"
   ]
  },
  {
   "cell_type": "code",
   "execution_count": null,
   "metadata": {},
   "outputs": [],
   "source": [
    "# One simulation prediction plot\n",
    "\n",
    "stall_time = lagged_one.loc[lagged_one['stall'] == 1, ['time']].min().values[0]\n",
    "stall_time_2 = lagged_one.loc[lagged_one['stall'] == 2, ['time']].min().values[0]\n",
    "stall_time_3 = lagged_one.loc[lagged_one['stall'] == 3, ['time']].min().values[0]\n",
    "stall_time_4= lagged_one.loc[lagged_one['stallp'] == 1, ['time']].min().values[0]\n",
    "stall_time_5 = lagged_one.loc[lagged_one['stallp'] == 2, ['time']].min().values[0]\n",
    "stall_time_6 = lagged_one.loc[lagged_one['stallp'] == 3, ['time']].min().values[0]"
   ]
  },
  {
   "cell_type": "code",
   "execution_count": null,
   "metadata": {},
   "outputs": [],
   "source": [
    "# Class 1 - Onset of stall actual\n",
    "\n",
    "stall_time "
   ]
  },
  {
   "cell_type": "code",
   "execution_count": null,
   "metadata": {},
   "outputs": [],
   "source": [
    "# Class 2 - Uncommanded Decent actual\n",
    "\n",
    "stall_time_2 "
   ]
  },
  {
   "cell_type": "code",
   "execution_count": null,
   "metadata": {},
   "outputs": [],
   "source": [
    "# Class 3 - Uncommanded Decent High and Roll actual\n",
    "\n",
    "stall_time_3 "
   ]
  },
  {
   "cell_type": "code",
   "execution_count": null,
   "metadata": {},
   "outputs": [],
   "source": [
    "# Class 1 - Onset of stall predicted\n",
    "\n",
    "stall_time_4 - Onset of stall predicted"
   ]
  },
  {
   "cell_type": "code",
   "execution_count": null,
   "metadata": {},
   "outputs": [],
   "source": [
    "# Class 2 - Uncommanded Decent predicted\n",
    "\n",
    "stall_time_5"
   ]
  },
  {
   "cell_type": "code",
   "execution_count": null,
   "metadata": {},
   "outputs": [],
   "source": [
    "# Class 3 - Uncommanded Decent High and Roll predicted\n",
    "\n",
    "stall_time_6"
   ]
  },
  {
   "cell_type": "code",
   "execution_count": null,
   "metadata": {},
   "outputs": [],
   "source": [
    "# Latency class 1\n",
    "\n",
    "50.1 - 52"
   ]
  },
  {
   "cell_type": "code",
   "execution_count": null,
   "metadata": {},
   "outputs": [],
   "source": [
    "# Latency class 3\n",
    "\n",
    "69.2 - 69.3"
   ]
  },
  {
   "cell_type": "code",
   "execution_count": null,
   "metadata": {},
   "outputs": [],
   "source": [
    "## Make plots \n",
    "\n",
    "import matplotlib.gridspec as gridspec\n",
    "import matplotlib.pyplot as plt\n",
    "import seaborn as sns\n",
    "sns.set_style(\"whitegrid\")\n",
    "fig, axs = plt.subplots(ncols=1, nrows=7, figsize=(18,9), sharex=True)\n",
    "plt = sns.lineplot(x='time', y='altitude', data=lagged_one, ax=axs[0])\n",
    "plt.axvline(stall_time, color='red')\n",
    "plt.axvline(stall_time_2, color='red')\n",
    "plt.axvline(stall_time_3, color='red')\n",
    "plt.axvline(stall_time_4, color='green')\n",
    "plt.axvline(stall_time_5, color='green')\n",
    "plt.axvline(stall_time_6, color='green')\n",
    "\n",
    "plt = sns.lineplot(x='time', y='vertical_speed', data=lagged_one, ax=axs[1])\n",
    "plt.axvline(stall_time, color='red')\n",
    "plt.axvline(stall_time_2, color='red')\n",
    "plt.axvline(stall_time_3, color='red')\n",
    "plt.axvline(stall_time_4, color='green')\n",
    "plt.axvline(stall_time_5, color='green')\n",
    "plt.axvline(stall_time_6, color='green')\n",
    "\n",
    "plt = sns.lineplot(x='time', y='roll', data=lagged_one, ax=axs[2])\n",
    "plt.axvline(stall_time, color='red')\n",
    "plt.axvline(stall_time_2, color='red')\n",
    "plt.axvline(stall_time_3, color='red')\n",
    "plt.axvline(stall_time_4, color='green')\n",
    "plt.axvline(stall_time_5, color='green')\n",
    "plt.axvline(stall_time_6, color='green')\n",
    "\n",
    "plt = sns.lineplot(x='time', y='AOA', data=lagged_one, ax=axs[3])\n",
    "plt.axvline(stall_time, color='red')\n",
    "plt.axvline(stall_time_2, color='red')\n",
    "plt.axvline(stall_time_3, color='red')\n",
    "plt.axvline(stall_time_4, color='green')\n",
    "plt.axvline(stall_time_5, color='green')\n",
    "plt.axvline(stall_time_6, color='green')\n",
    "\n",
    "plt = sns.lineplot(x='time', y='flight_path_angle', data=lagged_one, ax=axs[4])\n",
    "plt.axvline(stall_time, color='red')\n",
    "plt.axvline(stall_time_2, color='red')\n",
    "plt.axvline(stall_time_3, color='red')\n",
    "plt.axvline(stall_time_4, color='green')\n",
    "plt.axvline(stall_time_5, color='green')\n",
    "plt.axvline(stall_time_6, color='green')\n",
    "\n",
    "plt = sns.lineplot(x='time', y='pitch', data=lagged_one, ax=axs[5])\n",
    "plt.axvline(stall_time, color='red')\n",
    "plt.axvline(stall_time_2, color='red')\n",
    "plt.axvline(stall_time_3, color='red')\n",
    "plt.axvline(stall_time_4, color='green')\n",
    "plt.axvline(stall_time_5, color='green')\n",
    "plt.axvline(stall_time_6, color='green')\n",
    "\n",
    "plt = sns.lineplot(x='time', y='airspeed', data=lagged_one, ax=axs[6])\n",
    "plt.axvline(stall_time, color='red')\n",
    "plt.axvline(stall_time_2, color='red')\n",
    "plt.axvline(stall_time_3, color='red')\n",
    "plt.axvline(stall_time_4, color='green')\n",
    "plt.axvline(stall_time_5, color='green')\n",
    "plt.axvline(stall_time_6, color='green')\n",
    "\n",
    "left  = 0.125  # the left side of the subplots of the figure\n",
    "right = 0.9    # the right side of the subplots of the figure\n",
    "bottom = 10   # the bottom of the subplots of the figure\n",
    "top = 11      # the top of the subplots of the figure\n",
    "wspace = 0.2   # the amount of width reserved for blank space between subplots\n",
    "hspace = 0.2   # the amount of height reserved for white space between subplots"
   ]
  },
  {
   "cell_type": "code",
   "execution_count": null,
   "metadata": {},
   "outputs": [],
   "source": [
    "# Hyperparameter tuning for Lagged features based model"
   ]
  },
  {
   "cell_type": "code",
   "execution_count": null,
   "metadata": {},
   "outputs": [],
   "source": [
    "X = lagged_train_df.iloc[:,13:-1]\n",
    "y = lagged_train_df['stall']"
   ]
  },
  {
   "cell_type": "code",
   "execution_count": null,
   "metadata": {},
   "outputs": [],
   "source": [
    "# Step 1 - select some parameters that are present in the XGBClassifier\n",
    "\n",
    "params={\n",
    "    \"learning_rate\"   : [0.05, 0.01, 0.15, 0.20, 0.25, 0.30],\n",
    "    \"max_depth\"       : [3, 4, 5, 6, 8, 10, 12, 15],\n",
    "    \"min_child_weight\": [1, 3, 5, 7],\n",
    "    \"gamma\"           : [0.0, 0.1, 0.2, 0.3, 0.4],\n",
    "    \"colsample_bytree\": [0.3, 0.4, 0.5, 0.7]\n",
    "    \n",
    "}"
   ]
  },
  {
   "cell_type": "code",
   "execution_count": null,
   "metadata": {},
   "outputs": [],
   "source": [
    "def timer(start_time=None):\n",
    "    if not start_time:\n",
    "        start_time = datetime.now()\n",
    "        return start_time\n",
    "    elif start_time:\n",
    "        thour, temp_sec =divmod((datetime.now() - start_time).total_seconds(), 3600)\n",
    "        tmin, tsec = divmod(temp_sec, 60)\n",
    "        print('\\n Time taken: %i hours %i minutes and %s seconds.'%(thour, tmin, round(tsec, 2)))"
   ]
  },
  {
   "cell_type": "code",
   "execution_count": null,
   "metadata": {},
   "outputs": [],
   "source": [
    "# Setup default classifier\n",
    "\n",
    "classifier = xgboost.XGBClassifier()"
   ]
  },
  {
   "cell_type": "code",
   "execution_count": null,
   "metadata": {},
   "outputs": [],
   "source": [
    "# Fit\n",
    "\n",
    "start_time = timer(None) \n",
    "random_search.fit(X,y)\n",
    "timer(start_time)"
   ]
  },
  {
   "cell_type": "code",
   "execution_count": null,
   "metadata": {},
   "outputs": [],
   "source": [
    "# Best estimators\n",
    "\n",
    "random_search.best_estimator_"
   ]
  },
  {
   "cell_type": "code",
   "execution_count": null,
   "metadata": {},
   "outputs": [],
   "source": [
    "# Params that were selected\n",
    "\n",
    "random_search.best_params_"
   ]
  },
  {
   "cell_type": "code",
   "execution_count": null,
   "metadata": {},
   "outputs": [],
   "source": [
    "# Putting the best parameters in\n",
    "\n",
    "classifier = xgboost.XGBClassifier(base_score=0.5, booster='gbtree', colsample_bylevel=1,\n",
    "              colsample_bynode=1, colsample_bytree=0.7, gamma=0.0, gpu_id=-1,\n",
    "              importance_type='gain', interaction_constraints='',\n",
    "              learning_rate=0.25, max_delta_step=0, max_depth=5,\n",
    "              min_child_weight=7, monotone_constraints='()',\n",
    "              n_estimators=100, n_jobs=8, num_parallel_tree=1,\n",
    "              objective='multi:softprob', random_state=0, reg_alpha=0,\n",
    "              reg_lambda=1, scale_pos_weight=None, subsample=1,\n",
    "              tree_method='exact', validate_parameters=1, verbosity=None)"
   ]
  },
  {
   "cell_type": "code",
   "execution_count": null,
   "metadata": {},
   "outputs": [],
   "source": [
    "# Cross validation on the lagged featureds based model\n",
    "\n",
    "from sklearn.model_selection import cross_val_score\n",
    "score = cross_val_score(classifier, X,y,cv=10)"
   ]
  },
  {
   "cell_type": "code",
   "execution_count": null,
   "metadata": {},
   "outputs": [],
   "source": [
    "# Validation score\n",
    "\n",
    "score"
   ]
  },
  {
   "cell_type": "code",
   "execution_count": null,
   "metadata": {},
   "outputs": [],
   "source": [
    "# Accuracy\n",
    "\n",
    "score.mean()"
   ]
  },
  {
   "cell_type": "code",
   "execution_count": null,
   "metadata": {},
   "outputs": [],
   "source": [
    "# For Lagged feature based model with hyperparameter tuning\n",
    "\n",
    "z = lagged_test_df.iloc[:,13:-1]\n",
    "u = lagged_test_df['stall']"
   ]
  },
  {
   "cell_type": "code",
   "execution_count": null,
   "metadata": {},
   "outputs": [],
   "source": [
    "# Lagged feature based model with hyperparameter tuning and classification report\n",
    "\n",
    "pred = classifier.fit(X, y).predict(z)\n",
    "print(classification_report(u, pred))"
   ]
  }
 ],
 "metadata": {
  "kernelspec": {
   "display_name": "Python 3",
   "language": "python",
   "name": "python3"
  },
  "language_info": {
   "codemirror_mode": {
    "name": "ipython",
    "version": 3
   },
   "file_extension": ".py",
   "mimetype": "text/x-python",
   "name": "python",
   "nbconvert_exporter": "python",
   "pygments_lexer": "ipython3",
   "version": "3.8.3"
  }
 },
 "nbformat": 4,
 "nbformat_minor": 4
}
